{
 "cells": [
  {
   "cell_type": "code",
   "execution_count": 66,
   "id": "9464c996",
   "metadata": {},
   "outputs": [],
   "source": [
    "import os\n",
    "os.chdir(\"E:\\\\yashu\\\\excel\")"
   ]
  },
  {
   "cell_type": "code",
   "execution_count": 67,
   "id": "07517897",
   "metadata": {},
   "outputs": [],
   "source": [
    "import pandas as pd\n",
    "import numpy as np\n",
    "import matplotlib.pyplot as plt\n",
    "from sklearn.preprocessing import MinMaxScaler\n",
    "from sklearn.preprocessing import StandardScaler\n",
    "from sklearn import preprocessing\n",
    "from sklearn.decomposition import PCA\n",
    "from sklearn.metrics import confusion_matrix\n",
    "from sklearn.metrics import  accuracy_score\n",
    "from sklearn.metrics import  classification_report\n",
    "import seaborn as sns\n",
    "from sklearn import metrics\n",
    "from sklearn.neighbors import KNeighborsClassifier\n",
    "from sklearn.model_selection import train_test_split"
   ]
  },
  {
   "cell_type": "code",
   "execution_count": 68,
   "id": "22d3fb18",
   "metadata": {},
   "outputs": [
    {
     "data": {
      "text/plain": [
       "Index(['Id', 'SepalLengthCm', 'SepalWidthCm', 'PetalLengthCm', 'PetalWidthCm',\n",
       "       'Species'],\n",
       "      dtype='object')"
      ]
     },
     "execution_count": 68,
     "metadata": {},
     "output_type": "execute_result"
    }
   ],
   "source": [
    "df=pd.read_csv(\"Iris.csv\")\n",
    "df.columns"
   ]
  },
  {
   "cell_type": "raw",
   "id": "ea88ae95",
   "metadata": {},
   "source": [
    "KNN Algo with un-normalized data"
   ]
  },
  {
   "cell_type": "code",
   "execution_count": 69,
   "id": "49f26838",
   "metadata": {
    "scrolled": true
   },
   "outputs": [
    {
     "name": "stdout",
     "output_type": "stream",
     "text": [
      "(150, 4) \n",
      " (150,)\n"
     ]
    }
   ],
   "source": [
    "X = df.drop(['Id','Species'],axis=1)  #x contains input features useful for the model\n",
    "Y=df['Species']    #y contains target values\n",
    "print(X.shape,\"\\n\",Y.shape)"
   ]
  },
  {
   "cell_type": "code",
   "execution_count": 70,
   "id": "314632b3",
   "metadata": {},
   "outputs": [
    {
     "name": "stdout",
     "output_type": "stream",
     "text": [
      "(90, 4) \n",
      " (60, 4) \n",
      " (90,) \n",
      " (60,) \n",
      "\n"
     ]
    }
   ],
   "source": [
    "X_train,X_test,Y_train,Y_test=train_test_split(X,Y,test_size=0.4,random_state=5) \n",
    "#test size =0.4 stands for 40% i.e., 40/100 x 150 = 60, training = 150 - test = 90\n",
    "#random state will ensure same random shuffle is generated everytime we run this cell\n",
    "print(X_train.shape,\"\\n\",X_test.shape,\"\\n\",Y_train.shape,\"\\n\",Y_test.shape,\"\\n\")"
   ]
  },
  {
   "cell_type": "code",
   "execution_count": 71,
   "id": "a9eded34",
   "metadata": {},
   "outputs": [
    {
     "name": "stderr",
     "output_type": "stream",
     "text": [
      "C:\\Users\\node-3\\AppData\\Local\\Programs\\Python\\Python310\\lib\\site-packages\\sklearn\\base.py:450: UserWarning: X does not have valid feature names, but KNeighborsClassifier was fitted with feature names\n",
      "  warnings.warn(\n"
     ]
    },
    {
     "data": {
      "text/plain": [
       "array(['Iris-virginica'], dtype=object)"
      ]
     },
     "execution_count": 71,
     "metadata": {},
     "output_type": "execute_result"
    }
   ],
   "source": [
    "knn=KNeighborsClassifier(n_neighbors=12)\n",
    "knn.fit(X_train,Y_train)\n",
    "\n",
    "#make a prediction for an example out of \n",
    "knn.predict([[2.5,11.3,5.6,8.9]])"
   ]
  },
  {
   "cell_type": "code",
   "execution_count": 72,
   "id": "d1d7ec43",
   "metadata": {},
   "outputs": [
    {
     "name": "stdout",
     "output_type": "stream",
     "text": [
      "98.33333333333333\n"
     ]
    }
   ],
   "source": [
    "Y_pred=knn.predict(X_test)\n",
    "print(metrics.accuracy_score(Y_test,Y_pred)*100)"
   ]
  },
  {
   "cell_type": "raw",
   "id": "2f1b51ab",
   "metadata": {},
   "source": [
    "KNN Algo with Normalization"
   ]
  },
  {
   "cell_type": "code",
   "execution_count": 73,
   "id": "b842564d",
   "metadata": {},
   "outputs": [
    {
     "name": "stdout",
     "output_type": "stream",
     "text": [
      "     SepalLengthCm  SepalWidthCm  PetalLengthCm  PetalWidthCm\n",
      "0        -0.900681      1.032057      -1.341272     -1.312977\n",
      "1        -1.143017     -0.124958      -1.341272     -1.312977\n",
      "2        -1.385353      0.337848      -1.398138     -1.312977\n",
      "3        -1.506521      0.106445      -1.284407     -1.312977\n",
      "4        -1.021849      1.263460      -1.341272     -1.312977\n",
      "..             ...           ...            ...           ...\n",
      "145       1.038005     -0.124958       0.819624      1.447956\n",
      "146       0.553333     -1.281972       0.705893      0.922064\n",
      "147       0.795669     -0.124958       0.819624      1.053537\n",
      "148       0.432165      0.800654       0.933356      1.447956\n",
      "149       0.068662     -0.124958       0.762759      0.790591\n",
      "\n",
      "[150 rows x 4 columns]\n"
     ]
    }
   ],
   "source": [
    "from sklearn.preprocessing import StandardScaler\n",
    "\n",
    "scaler = StandardScaler()\n",
    "scaled_df = scaler.fit_transform(X)\n",
    "scaled_df2 = pd.DataFrame(scaled_df, columns=['SepalLengthCm', 'SepalWidthCm', 'PetalLengthCm', 'PetalWidthCm'])\n",
    "print(scaled_df2)"
   ]
  },
  {
   "cell_type": "code",
   "execution_count": 74,
   "id": "08af628f",
   "metadata": {},
   "outputs": [
    {
     "name": "stdout",
     "output_type": "stream",
     "text": [
      "(90, 4) \n",
      " (60, 4) \n",
      " (90, 4) \n",
      " (60,) \n",
      "\n"
     ]
    }
   ],
   "source": [
    "x_train,x_test,y_train,y_test=train_test_split(scaled_df2,Y,test_size=0.4,random_state=2) \n",
    "print(x_train.shape,\"\\n\",x_test.shape,\"\\n\",x_train.shape,\"\\n\",y_test.shape,\"\\n\")"
   ]
  },
  {
   "cell_type": "code",
   "execution_count": 75,
   "id": "eac4a0f1",
   "metadata": {},
   "outputs": [
    {
     "name": "stderr",
     "output_type": "stream",
     "text": [
      "C:\\Users\\node-3\\AppData\\Local\\Programs\\Python\\Python310\\lib\\site-packages\\sklearn\\base.py:450: UserWarning: X does not have valid feature names, but KNeighborsClassifier was fitted with feature names\n",
      "  warnings.warn(\n"
     ]
    },
    {
     "data": {
      "text/plain": [
       "array(['Iris-virginica'], dtype=object)"
      ]
     },
     "execution_count": 75,
     "metadata": {},
     "output_type": "execute_result"
    }
   ],
   "source": [
    "knn=KNeighborsClassifier(n_neighbors=12)\n",
    "knn.fit(x_train,y_train)\n",
    "\n",
    "#make a prediction for an example out of \n",
    "knn.predict([[2.5,11.3,5.6,8.9]])"
   ]
  },
  {
   "cell_type": "code",
   "execution_count": 76,
   "id": "9827179b",
   "metadata": {},
   "outputs": [
    {
     "name": "stdout",
     "output_type": "stream",
     "text": [
      "95.0\n"
     ]
    }
   ],
   "source": [
    "y_pred=knn.predict(x_test)\n",
    "print(metrics.accuracy_score(y_test,y_pred)*100)"
   ]
  },
  {
   "cell_type": "raw",
   "id": "cf486b46",
   "metadata": {},
   "source": [
    "PCA with normalization on KNN algo"
   ]
  },
  {
   "cell_type": "code",
   "execution_count": 77,
   "id": "a26419fe",
   "metadata": {},
   "outputs": [
    {
     "name": "stdout",
     "output_type": "stream",
     "text": [
      "        PC1       PC2       PC3       PC4\n",
      "0 -2.264542  0.505704 -0.121943 -0.023073\n",
      "1 -2.086426 -0.655405 -0.227251 -0.103208\n",
      "2 -2.367950 -0.318477  0.051480 -0.027825\n",
      "3 -2.304197 -0.575368  0.098860  0.066311\n",
      "4 -2.388777  0.674767  0.021428  0.037397\n"
     ]
    }
   ],
   "source": [
    "from sklearn.decomposition import PCA \n",
    "\n",
    "pca = PCA(n_components=4)\n",
    "pca.fit(scaled_df2)\n",
    "reduced_data = pca.transform(scaled_df2)\n",
    "reduced_data=pd.DataFrame(reduced_data,columns=['PC1','PC2','PC3','PC4'])\n",
    "print(reduced_data.head())"
   ]
  },
  {
   "cell_type": "code",
   "execution_count": 78,
   "id": "d04195cd",
   "metadata": {},
   "outputs": [
    {
     "name": "stdout",
     "output_type": "stream",
     "text": [
      "(90, 4) \n",
      " (60, 4) \n",
      " (90,) \n",
      " (60,) \n",
      "\n"
     ]
    }
   ],
   "source": [
    "x1_train,x1_test,y1_train,y1_test=train_test_split(reduced_data,Y,test_size=0.4,random_state=2) \n",
    "print(x1_train.shape,\"\\n\",x1_test.shape,\"\\n\",y1_train.shape,\"\\n\",y1_test.shape,\"\\n\")"
   ]
  },
  {
   "cell_type": "code",
   "execution_count": 79,
   "id": "021fdf07",
   "metadata": {},
   "outputs": [
    {
     "name": "stderr",
     "output_type": "stream",
     "text": [
      "C:\\Users\\node-3\\AppData\\Local\\Programs\\Python\\Python310\\lib\\site-packages\\sklearn\\base.py:450: UserWarning: X does not have valid feature names, but KNeighborsClassifier was fitted with feature names\n",
      "  warnings.warn(\n"
     ]
    },
    {
     "data": {
      "text/plain": [
       "array(['Iris-virginica'], dtype=object)"
      ]
     },
     "execution_count": 79,
     "metadata": {},
     "output_type": "execute_result"
    }
   ],
   "source": [
    "knn=KNeighborsClassifier(n_neighbors=12)\n",
    "knn.fit(x1_train,y1_train)\n",
    "\n",
    "#make a prediction for an example out of \n",
    "knn.predict([[2.5,11.3,5.6,8.9]])"
   ]
  },
  {
   "cell_type": "code",
   "execution_count": 80,
   "id": "912edc55",
   "metadata": {},
   "outputs": [
    {
     "name": "stdout",
     "output_type": "stream",
     "text": [
      "95.0\n"
     ]
    }
   ],
   "source": [
    "y1_pred=knn.predict(x1_test)\n",
    "print(metrics.accuracy_score(y1_test,y1_pred)*100)"
   ]
  },
  {
   "cell_type": "raw",
   "id": "97bd6947",
   "metadata": {},
   "source": [
    "PCA on un-normalized data on KNN algo"
   ]
  },
  {
   "cell_type": "code",
   "execution_count": 81,
   "id": "efe64a4c",
   "metadata": {},
   "outputs": [
    {
     "name": "stdout",
     "output_type": "stream",
     "text": [
      "        PC1       PC2       PC3       PC4\n",
      "0 -2.264542  0.505704 -0.121943 -0.023073\n",
      "1 -2.086426 -0.655405 -0.227251 -0.103208\n",
      "2 -2.367950 -0.318477  0.051480 -0.027825\n",
      "3 -2.304197 -0.575368  0.098860  0.066311\n",
      "4 -2.388777  0.674767  0.021428  0.037397\n"
     ]
    }
   ],
   "source": [
    "from sklearn.decomposition import PCA \n",
    "\n",
    "pca = PCA(n_components=4)\n",
    "pca.fit(X)\n",
    "reduced_data1 = pca.transform(X)\n",
    "reduced_data1=pd.DataFrame(reduced_data,columns=['PC1','PC2','PC3','PC4'])\n",
    "print(reduced_data1.head())"
   ]
  },
  {
   "cell_type": "code",
   "execution_count": 82,
   "id": "68b90d5d",
   "metadata": {},
   "outputs": [
    {
     "name": "stdout",
     "output_type": "stream",
     "text": [
      "(90, 4) \n",
      " (60, 4) \n",
      " (90,) \n",
      " (60,) \n",
      "\n"
     ]
    }
   ],
   "source": [
    "x2_train,x2_test,y2_train,y2_test=train_test_split(reduced_data,Y,test_size=0.4,random_state=2) \n",
    "print(x2_train.shape,\"\\n\",x2_test.shape,\"\\n\",y2_train.shape,\"\\n\",y2_test.shape,\"\\n\")"
   ]
  },
  {
   "cell_type": "code",
   "execution_count": 83,
   "id": "34ada60f",
   "metadata": {},
   "outputs": [
    {
     "name": "stderr",
     "output_type": "stream",
     "text": [
      "C:\\Users\\node-3\\AppData\\Local\\Programs\\Python\\Python310\\lib\\site-packages\\sklearn\\base.py:450: UserWarning: X does not have valid feature names, but KNeighborsClassifier was fitted with feature names\n",
      "  warnings.warn(\n"
     ]
    },
    {
     "data": {
      "text/plain": [
       "array(['Iris-virginica'], dtype=object)"
      ]
     },
     "execution_count": 83,
     "metadata": {},
     "output_type": "execute_result"
    }
   ],
   "source": [
    "knn=KNeighborsClassifier(n_neighbors=12)\n",
    "knn.fit(x_train,y_train)\n",
    "\n",
    "#make a prediction for an example out of \n",
    "knn.predict([[2.5,11.3,5.6,8.9]])"
   ]
  },
  {
   "cell_type": "code",
   "execution_count": 84,
   "id": "fb6226f3",
   "metadata": {},
   "outputs": [
    {
     "name": "stdout",
     "output_type": "stream",
     "text": [
      "43.333333333333336\n"
     ]
    },
    {
     "name": "stderr",
     "output_type": "stream",
     "text": [
      "C:\\Users\\node-3\\AppData\\Local\\Programs\\Python\\Python310\\lib\\site-packages\\sklearn\\base.py:493: FutureWarning: The feature names should match those that were passed during fit. Starting version 1.2, an error will be raised.\n",
      "Feature names unseen at fit time:\n",
      "- PC1\n",
      "- PC2\n",
      "- PC3\n",
      "- PC4\n",
      "Feature names seen at fit time, yet now missing:\n",
      "- PetalLengthCm\n",
      "- PetalWidthCm\n",
      "- SepalLengthCm\n",
      "- SepalWidthCm\n",
      "\n",
      "  warnings.warn(message, FutureWarning)\n"
     ]
    }
   ],
   "source": [
    "y2_pred=knn.predict(x2_test)\n",
    "print(metrics.accuracy_score(y2_test,y2_pred)*100)"
   ]
  },
  {
   "cell_type": "raw",
   "id": "35eac5bd",
   "metadata": {},
   "source": [
    "SVC on un-normalized data"
   ]
  },
  {
   "cell_type": "code",
   "execution_count": 85,
   "id": "12b5499e",
   "metadata": {},
   "outputs": [
    {
     "name": "stdout",
     "output_type": "stream",
     "text": [
      "(120, 4) \n",
      " (30, 4) \n",
      " (120, 4) \n",
      " (30,) \n",
      "\n",
      "Test Score: 93.33333333333333\n"
     ]
    }
   ],
   "source": [
    "from sklearn.svm import SVC\n",
    "\n",
    "x3_train,x3_test,y3_train,y3_test=train_test_split(X,Y,test_size=0.2) \n",
    "print(x3_train.shape,\"\\n\",x3_test.shape,\"\\n\",x3_train.shape,\"\\n\",y3_test.shape,\"\\n\")\n",
    "svc=SVC(random_state=101)\n",
    "svc.fit(x3_train,y3_train)\n",
    "print(\"Test Score:\",svc.score(x3_test,y3_test)*100)"
   ]
  },
  {
   "cell_type": "raw",
   "id": "5717edc1",
   "metadata": {},
   "source": [
    "SVC on normalized data"
   ]
  },
  {
   "cell_type": "code",
   "execution_count": 86,
   "id": "cdb9505a",
   "metadata": {},
   "outputs": [
    {
     "name": "stdout",
     "output_type": "stream",
     "text": [
      "(120, 4) \n",
      " (30, 4) \n",
      " (120,) \n",
      " (30,) \n",
      "\n",
      "Test Score: 100.0\n"
     ]
    }
   ],
   "source": [
    "x4_train,x4_test,y4_train,y4_test=train_test_split(scaled_df2,Y,test_size=0.2) \n",
    "print(x4_train.shape,\"\\n\",x4_test.shape,\"\\n\",y4_train.shape,\"\\n\",y4_test.shape,\"\\n\")\n",
    "svc=SVC(random_state=101)\n",
    "svc.fit(x4_train,y4_train)\n",
    "print(\"Test Score:\",svc.score(x4_test,y4_test)*100)"
   ]
  },
  {
   "cell_type": "raw",
   "id": "602ac435",
   "metadata": {},
   "source": [
    "SVC on normalized PCA data"
   ]
  },
  {
   "cell_type": "code",
   "execution_count": 87,
   "id": "7756fe34",
   "metadata": {},
   "outputs": [
    {
     "name": "stdout",
     "output_type": "stream",
     "text": [
      "(90, 4) \n",
      " (60, 4) \n",
      " (90,) \n",
      " (60,) \n",
      "\n",
      "Test Score: 95.0\n"
     ]
    }
   ],
   "source": [
    "x5_train,x5_test,y5_train,y5_test=train_test_split(reduced_data,Y,test_size=0.4,random_state=2) \n",
    "print(x5_train.shape,\"\\n\",x5_test.shape,\"\\n\",y5_train.shape,\"\\n\",y5_test.shape,\"\\n\")\n",
    "svc=SVC(random_state=101)\n",
    "svc.fit(x5_train,y5_train)\n",
    "print(\"Test Score:\",svc.score(x5_test,y5_test)*100)"
   ]
  },
  {
   "cell_type": "raw",
   "id": "52ca7c19",
   "metadata": {},
   "source": [
    "Kernel support vector machine model on un-normalized data"
   ]
  },
  {
   "cell_type": "code",
   "execution_count": 88,
   "id": "e25e8770",
   "metadata": {},
   "outputs": [
    {
     "name": "stdout",
     "output_type": "stream",
     "text": [
      "Accuracy: 96.66666666666667\n"
     ]
    }
   ],
   "source": [
    "from sklearn.svm import SVC\n",
    "ksvm = SVC(kernel='rbf',gamma=0.1,C=10.0)\n",
    "\n",
    "# Train the model on the training data\n",
    "ksvm.fit(X_train, Y_train)\n",
    "\n",
    "# Evaluate the model on the test data\n",
    "accuracy = ksvm.score(X_test, Y_test)\n",
    "print('Accuracy:', accuracy*100)\n"
   ]
  },
  {
   "cell_type": "raw",
   "id": "66bb964d",
   "metadata": {},
   "source": [
    "Kernel support vector machine model on normalized data"
   ]
  },
  {
   "cell_type": "code",
   "execution_count": 89,
   "id": "253d23d2",
   "metadata": {},
   "outputs": [
    {
     "name": "stdout",
     "output_type": "stream",
     "text": [
      "Accuracy: 90.0\n"
     ]
    }
   ],
   "source": [
    "from sklearn.svm import SVC\n",
    "ksvm = SVC(kernel='rbf',gamma=0.1,C=10.0)\n",
    "\n",
    "# Train the model on the training data\n",
    "ksvm.fit(x_train, y_train)\n",
    "\n",
    "# Evaluate the model on the test data\n",
    "accuracy = ksvm.score(x_test, y_test)\n",
    "print('Accuracy:', accuracy*100)"
   ]
  },
  {
   "cell_type": "raw",
   "id": "b458039c",
   "metadata": {},
   "source": [
    "Kernel support vector machine model on PCA data"
   ]
  },
  {
   "cell_type": "code",
   "execution_count": 90,
   "id": "6059e383",
   "metadata": {},
   "outputs": [
    {
     "name": "stdout",
     "output_type": "stream",
     "text": [
      "Accuracy: 90.0\n"
     ]
    }
   ],
   "source": [
    "from sklearn.svm import SVC\n",
    "ksvm = SVC(kernel='rbf',gamma=0.1,C=10.0)\n",
    "\n",
    "# Train the model on the training data\n",
    "ksvm.fit(x1_train, y1_train)\n",
    "\n",
    "# Evaluate the model on the test data\n",
    "accuracy = ksvm.score(x1_test, y1_test)\n",
    "print('Accuracy:', accuracy*100)"
   ]
  },
  {
   "cell_type": "raw",
   "id": "2fcb478a",
   "metadata": {},
   "source": [
    "K-fold Cross Validation technique"
   ]
  },
  {
   "cell_type": "code",
   "execution_count": 91,
   "id": "d4b5caed",
   "metadata": {},
   "outputs": [
    {
     "name": "stdout",
     "output_type": "stream",
     "text": [
      "Cross-Validation Results (Accuracy): [1.         1.         0.96666667 0.93333333 0.96666667]\n",
      "Mean Accuracy: 0.9733333333333334\n"
     ]
    }
   ],
   "source": [
    "from sklearn.model_selection import cross_val_score, KFold\n",
    "from sklearn.svm import SVC\n",
    "\n",
    "svm_classifier = SVC(kernel='linear')\n",
    "num_folds = 5\n",
    "kf = KFold(n_splits=num_folds, shuffle=True, random_state=42)\n",
    "cross_val_results = cross_val_score(svm_classifier, X, Y, cv=kf)\n",
    "print(f'Cross-Validation Results (Accuracy): {cross_val_results}')\n",
    "print(f'Mean Accuracy: {cross_val_results.mean()}')"
   ]
  },
  {
   "cell_type": "raw",
   "id": "b4f373f0",
   "metadata": {},
   "source": [
    "Random Forest"
   ]
  },
  {
   "cell_type": "code",
   "execution_count": 104,
   "id": "3c5e9d30",
   "metadata": {},
   "outputs": [
    {
     "name": "stdout",
     "output_type": "stream",
     "text": [
      "\n",
      "ACCURACY OF THE MODEL: 0.9333333333333333\n"
     ]
    }
   ],
   "source": [
    "from sklearn.ensemble import RandomForestClassifier\n",
    "\n",
    "x6_train,x6_test,y6_train,y6_test=train_test_split(X,Y,test_size=0.4,random_state=2)\n",
    "\n",
    "# creating a RF classifier\n",
    "clf = RandomForestClassifier(n_estimators = 100) \n",
    "\n",
    "# Training the model on the training dataset\n",
    "# fit function is used to train the model using the training sets as parameters\n",
    "clf.fit(x6_train, y6_train)\n",
    "\n",
    "# performing predictions on the test dataset\n",
    "y_pred = clf.predict(x6_test)\n",
    "\n",
    "# metrics are used to find accuracy or error\n",
    "from sklearn import metrics \n",
    "print()\n",
    "\n",
    "# using metrics module for accuracy calculation\n",
    "print(\"ACCURACY OF THE MODEL:\", metrics.accuracy_score(y_test, y_pred))"
   ]
  },
  {
   "cell_type": "code",
   "execution_count": 94,
   "id": "7eb8633f",
   "metadata": {},
   "outputs": [
    {
     "name": "stderr",
     "output_type": "stream",
     "text": [
      "C:\\Users\\node-3\\AppData\\Local\\Programs\\Python\\Python310\\lib\\site-packages\\sklearn\\base.py:450: UserWarning: X does not have valid feature names, but RandomForestClassifier was fitted with feature names\n",
      "  warnings.warn(\n"
     ]
    },
    {
     "data": {
      "text/plain": [
       "array(['Iris-setosa'], dtype=object)"
      ]
     },
     "execution_count": 94,
     "metadata": {},
     "output_type": "execute_result"
    }
   ],
   "source": [
    "clf.predict([[3, 3, 2, 2]])"
   ]
  },
  {
   "cell_type": "raw",
   "id": "c10b48fa",
   "metadata": {},
   "source": [
    "Bagging"
   ]
  },
  {
   "cell_type": "code",
   "execution_count": 100,
   "id": "083c3de9",
   "metadata": {},
   "outputs": [
    {
     "name": "stdout",
     "output_type": "stream",
     "text": [
      "Accuracy: 0.95\n"
     ]
    }
   ],
   "source": [
    "from sklearn.tree import DecisionTreeClassifier\n",
    "from sklearn.ensemble import BaggingClassifier\n",
    "\n",
    "x6_train,x6_test,y6_train,y6_test=train_test_split(X,Y,test_size=0.4,random_state=2) \n",
    "\n",
    "# Create the base classifier\n",
    "dc = DecisionTreeClassifier()\n",
    "model = BaggingClassifier(base_estimator=dc, n_estimators=10)\n",
    "classifiers = model.fit(x6_train, y6_train)\n",
    "\n",
    "# Make predictions on the test set\n",
    "y6_pred = model.predict(x6_test)\n",
    "\n",
    "# Calculate accuracy\n",
    "accuracy = accuracy_score(y6_test, y6_pred)\n",
    "print(\"Accuracy:\", accuracy)\n"
   ]
  },
  {
   "cell_type": "raw",
   "id": "d86e3de2",
   "metadata": {},
   "source": [
    "Boosting"
   ]
  },
  {
   "cell_type": "code",
   "execution_count": 103,
   "id": "0b1f8588",
   "metadata": {},
   "outputs": [
    {
     "name": "stdout",
     "output_type": "stream",
     "text": [
      "The accuracy of the model on validation set is 0.9210526315789473\n"
     ]
    }
   ],
   "source": [
    "import pandas as pd \n",
    "import numpy as np \n",
    "from sklearn.model_selection import train_test_split \n",
    "from sklearn.ensemble import AdaBoostClassifier \n",
    "import warnings \n",
    "warnings.filterwarnings(\"ignore\") \n",
    "X_train, X_val, Y_train, Y_val = train_test_split( \n",
    "X, y, test_size=0.25, random_state=28) \n",
    "# Creating adaboost classifier model \n",
    "adb = AdaBoostClassifier() \n",
    "adb_model = adb.fit(X_train,Y_train)\n",
    "print(\"The accuracy of the model on validation set is\", adb_model.score(X_val,Y_val))"
   ]
  },
  {
   "cell_type": "code",
   "execution_count": null,
   "id": "629c9ab5",
   "metadata": {},
   "outputs": [],
   "source": []
  }
 ],
 "metadata": {
  "kernelspec": {
   "display_name": "Python 3 (ipykernel)",
   "language": "python",
   "name": "python3"
  },
  "language_info": {
   "codemirror_mode": {
    "name": "ipython",
    "version": 3
   },
   "file_extension": ".py",
   "mimetype": "text/x-python",
   "name": "python",
   "nbconvert_exporter": "python",
   "pygments_lexer": "ipython3",
   "version": "3.10.7"
  }
 },
 "nbformat": 4,
 "nbformat_minor": 5
}
